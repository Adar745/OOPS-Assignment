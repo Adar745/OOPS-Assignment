{
  "nbformat": 4,
  "nbformat_minor": 0,
  "metadata": {
    "colab": {
      "provenance": []
    },
    "kernelspec": {
      "name": "python3",
      "display_name": "Python 3"
    },
    "language_info": {
      "name": "python"
    }
  },
  "cells": [
    {
      "cell_type": "markdown",
      "source": [
        "1) What are the five key concepts of Object-Oriented Programming (OOP)"
      ],
      "metadata": {
        "id": "H_dj7BqZCGBb"
      }
    },
    {
      "cell_type": "code",
      "execution_count": null,
      "metadata": {
        "id": "OZ2hkiAVCACE"
      },
      "outputs": [],
      "source": [
        "Object-Oriented Programming (OOP) revolves around organizing and structuring code in terms of objects and their interactions. The five key concepts of OOP are:\n",
        "\n",
        "#1.Encapsulation\n",
        "   - Encapsulation is the bundling of data (attributes) and methods (functions) that operate on the data into a single unit, called an object.\n",
        "   - It restricts direct access to some of the object’s components, ensuring controlled interaction through methods.\n",
        "   - Example: Using private or protected variables in a class and providing public methods (getters and setters) to access or modify them.\n",
        "\n",
        "#2.Abstraction\n",
        "   - Abstraction involves hiding the complex implementation details of a system and exposing only the essential features or functionality.\n",
        "   - It allows a programmer to work at a higher level of thinking without worrying about internal complexities.\n",
        "   - Example: A \"Vehicle\" class might expose a `drive()` method without detailing how the engine works internally.\n",
        "\n",
        "#3.Inheritance\n",
        "   - Inheritance allows a new class (child or subclass) to inherit attributes and methods from an existing class (parent or superclass).\n",
        "   - This promotes code reuse and establishes a hierarchical relationship between classes.\n",
        "   - Example: A `Car` class might inherit from a `Vehicle` class and add specific attributes like `number_of_wheels`.\n",
        "\n",
        "#4.Polymorphism\n",
        "   - Polymorphism enables a single interface to represent different underlying forms (data types or classes).\n",
        "   - It allows objects of different classes to be treated as objects of a common superclass, particularly when overriding or overloading methods.\n",
        "   - Example: A `draw()` method could be implemented differently in `Circle` and `Square` classes but be called uniformly.\n",
        "\n",
        "#5.Composition\n",
        "   - Composition involves building complex objects by combining simpler ones. Rather than inheriting, objects are made up of other objects, fostering modularity and flexibility.\n",
        "   - Example: A `Car` class could have a `Engine` object as a component rather than inheriting from an `Engine` class.\n",
        "\n",
        "These principles make OOP a powerful paradigm for creating modular, reusable, and maintainable software."
      ]
    },
    {
      "cell_type": "markdown",
      "source": [
        "2)  Write a Python class for a `Car` with attributes for `make`, `model`, and `year`. Include a method to display\n",
        "the car's information."
      ],
      "metadata": {
        "id": "kY2qxTxlCpTt"
      }
    },
    {
      "cell_type": "code",
      "source": [
        "class Car:\n",
        "    def __init__(self, make, model, year):\n",
        "        \"\"\"\n",
        "        Initialize the Car object with make, model, and year.\n",
        "        \"\"\"\n",
        "        self.make = make\n",
        "        self.model = model\n",
        "        self.year = year\n",
        "\n",
        "    def display_info(self):\n",
        "        \"\"\"\n",
        "        Display the car's information in a readable format.\n",
        "        \"\"\"\n",
        "        print(f\"Car Information: {self.year} {self.make} {self.model}\")\n",
        "\n",
        "# Example usage:\n",
        "my_car = Car(\"Toyota\", \"Corolla\", 2020)\n",
        "my_car.display_info()\n"
      ],
      "metadata": {
        "colab": {
          "base_uri": "https://localhost:8080/"
        },
        "id": "Cfoj7J-3Ct1Z",
        "outputId": "2361d96d-b5fa-4d28-f6b3-8ecba1ae1b71"
      },
      "execution_count": 1,
      "outputs": [
        {
          "output_type": "stream",
          "name": "stdout",
          "text": [
            "Car Information: 2020 Toyota Corolla\n"
          ]
        }
      ]
    },
    {
      "cell_type": "markdown",
      "source": [
        "3) Explain the difference between instance methods and class methods. Provide an example of each"
      ],
      "metadata": {
        "id": "WLF6fiWZEVBk"
      }
    },
    {
      "cell_type": "code",
      "source": [
        "#Instance Methods\n",
        "#Definition: Methods that operate on an instance of the class.\n",
        "#Access: They have access to the instance (self) and can modify the instance's attributes and call other instance methods.\n",
        "#Usage: Commonly used for actions or behaviors specific to an instance.\n",
        "#Declaration: Defined normally with the first parameter being self.\n",
        "class Example:\n",
        "    def __init__(self, value):\n",
        "        self.value = value  # Instance attribute\n",
        "\n",
        "    def show_value(self):\n",
        "        return f\"The value is: {self.value}\"  # Uses the instance attribute\n",
        "\n",
        "# Using the instance method\n",
        "obj = Example(10)\n",
        "print(obj.show_value())  # Output: The value is: 10\n",
        "\n"
      ],
      "metadata": {
        "colab": {
          "base_uri": "https://localhost:8080/"
        },
        "id": "_zOTyNBQC3Yg",
        "outputId": "d9d29643-76f8-45ea-9f9b-2309fb102d52"
      },
      "execution_count": 2,
      "outputs": [
        {
          "output_type": "stream",
          "name": "stdout",
          "text": [
            "The value is: 10\n"
          ]
        }
      ]
    },
    {
      "cell_type": "code",
      "source": [
        "#Class Methods\n",
        "#Definition: Methods that operate on the class itself, not on a specific instance.\n",
        "#Access: They have access to the class (cls) and can modify class-level attributes or perform actions that affect the class as a whole.\n",
        "#Usage: Often used for factory methods, utility functions related to the class, or modifying class variables.\n",
        "#Declaration: Defined using the @classmethod decorator, with the first parameter being cls.\n",
        "class Example:\n",
        "    class_variable = 0  # Class attribute\n",
        "\n",
        "    def __init__(self, value):\n",
        "        self.value = value\n",
        "\n",
        "    @classmethod\n",
        "    def set_class_variable(cls, new_value):\n",
        "        cls.class_variable = new_value  # Modifies the class attribute\n",
        "\n",
        "# Using the class method\n",
        "Example.set_class_variable(100)\n",
        "print(Example.class_variable)  # Output: 100\n"
      ],
      "metadata": {
        "colab": {
          "base_uri": "https://localhost:8080/"
        },
        "id": "GynjmU5NKJpk",
        "outputId": "1d896049-5685-4303-88a2-c2783c29e64d"
      },
      "execution_count": 3,
      "outputs": [
        {
          "output_type": "stream",
          "name": "stdout",
          "text": [
            "100\n"
          ]
        }
      ]
    },
    {
      "cell_type": "markdown",
      "source": [
        "4) How does Python implement method overloading? Give an example."
      ],
      "metadata": {
        "id": "ecl93euvKkWf"
      }
    },
    {
      "cell_type": "code",
      "source": [
        "#Python does not support traditional method overloading as seen in some other languages like Java or C++. In Python, a method can have only one implementation per name in a class, and the latest definition overrides any previous ones.\n",
        "\n",
        "#However, Python achieves similar functionality by using techniques such as:\n",
        "\n",
        "#Default Arguments: Different behaviors based on optional parameters.\n",
        "#Variable-length Arguments: Using *args and **kwargs to handle multiple arguments flexibly.\n",
        "#Type Checking: Using conditional logic based on argument types.\n",
        "\n",
        "#Example of Simulating Method Overloading\n",
        "#Here’s an example of how to simulate method overloading using default and variable-length arguments:\n",
        "\n",
        "class Calculator:\n",
        "    def add(self, a, b=0, c=0):\n",
        "        \"\"\"\n",
        "        Simulates method overloading by adding 2 or 3 numbers based on input.\n",
        "        \"\"\"\n",
        "        return a + b + c\n",
        "\n",
        "# Using the class\n",
        "calc = Calculator()\n",
        "\n",
        "# Adding two numbers\n",
        "print(calc.add(5, 10))  # Output: 15\n",
        "\n",
        "# Adding three numbers\n",
        "print(calc.add(5, 10, 15))  # Output: 30\n"
      ],
      "metadata": {
        "colab": {
          "base_uri": "https://localhost:8080/"
        },
        "id": "tPEMD0h_KXRX",
        "outputId": "9568fadc-94ac-408b-8f34-a65fa22a8f37"
      },
      "execution_count": 4,
      "outputs": [
        {
          "output_type": "stream",
          "name": "stdout",
          "text": [
            "15\n",
            "30\n"
          ]
        }
      ]
    },
    {
      "cell_type": "code",
      "source": [
        "#Using *args for Variable Arguments\n",
        "\n",
        "class Calculator:\n",
        "    def add(self, *args):\n",
        "        \"\"\"\n",
        "        Adds any number of arguments provided.\n",
        "        \"\"\"\n",
        "        return sum(args)\n",
        "\n",
        "# Using the class\n",
        "calc = Calculator()\n",
        "\n",
        "# Adding two numbers\n",
        "print(calc.add(5, 10))  # Output: 15\n",
        "\n",
        "# Adding three numbers\n",
        "print(calc.add(5, 10, 15))  # Output: 30\n",
        "\n",
        "# Adding more than three numbers\n",
        "print(calc.add(1, 2, 3, 4, 5))  # Output: 15\n"
      ],
      "metadata": {
        "colab": {
          "base_uri": "https://localhost:8080/"
        },
        "id": "bWqMbAsVLM5K",
        "outputId": "5a5cb48d-4ee5-452b-bbd2-f8f02c7d4244"
      },
      "execution_count": 5,
      "outputs": [
        {
          "output_type": "stream",
          "name": "stdout",
          "text": [
            "15\n",
            "30\n",
            "15\n"
          ]
        }
      ]
    },
    {
      "cell_type": "code",
      "source": [
        "#Using Type Checking for Overloading Behavior\n",
        "\n",
        "class Printer:\n",
        "    def display(self, data):\n",
        "        if isinstance(data, int):\n",
        "            print(f\"Integer: {data}\")\n",
        "        elif isinstance(data, str):\n",
        "            print(f\"String: {data}\")\n",
        "        elif isinstance(data, list):\n",
        "            print(f\"List: {', '.join(map(str, data))}\")\n",
        "        else:\n",
        "            print(\"Unsupported type\")\n",
        "\n",
        "# Using the class\n",
        "printer = Printer()\n",
        "printer.display(42)            # Output: Integer: 42\n",
        "printer.display(\"Hello\")       # Output: String: Hello\n",
        "printer.display([1, 2, 3])     # Output: List: 1, 2, 3\n"
      ],
      "metadata": {
        "colab": {
          "base_uri": "https://localhost:8080/"
        },
        "id": "hKxp14pGLRqG",
        "outputId": "d6ebf7a0-7bcb-4ca6-8b45-808ecd89b277"
      },
      "execution_count": 6,
      "outputs": [
        {
          "output_type": "stream",
          "name": "stdout",
          "text": [
            "Integer: 42\n",
            "String: Hello\n",
            "List: 1, 2, 3\n"
          ]
        }
      ]
    },
    {
      "cell_type": "markdown",
      "source": [
        "5) What are the three types of access modifiers in Python? How are they denoted?"
      ],
      "metadata": {
        "id": "1QeT4Ai8Le0D"
      }
    },
    {
      "cell_type": "code",
      "source": [
        "#In Python, access modifiers control the visibility and accessibility of class members (attributes and methods). Although Python does not enforce strict access control like some other languages (e.g., private/protected in Java), it uses naming conventions to imply access levels. The three types of access modifiers in Python are:\n",
        "\n",
        "#1. Public\n",
        "#Denoted By: No leading underscore (default).\n",
        "#Access: Public members are accessible from anywhere—inside or outside the class.\n",
        "\n",
        "class Example:\n",
        "    def __init__(self):\n",
        "        self.public_attribute = \"I am public\"\n",
        "\n",
        "    def public_method(self):\n",
        "        return \"This is a public method\"\n",
        "\n",
        "obj = Example()\n",
        "print(obj.public_attribute)  # Accessed directly\n",
        "print(obj.public_method())   # Accessed directly\n"
      ],
      "metadata": {
        "colab": {
          "base_uri": "https://localhost:8080/"
        },
        "id": "9G2IkA1bLdDq",
        "outputId": "53e26f9e-9997-49a6-94e2-a044abbf5e0a"
      },
      "execution_count": 7,
      "outputs": [
        {
          "output_type": "stream",
          "name": "stdout",
          "text": [
            "I am public\n",
            "This is a public method\n"
          ]
        }
      ]
    },
    {
      "cell_type": "code",
      "source": [
        "#2. Protected\n",
        "#Denoted By: A single leading underscore (_).\n",
        "#Access: Protected members are intended to be accessible only within the class and its subclasses. However, Python does not enforce this restriction, and they can still be accessed from outside the class (though it's discouraged by convention).\n",
        "\n",
        "class Example:\n",
        "    def __init__(self):\n",
        "        self._protected_attribute = \"I am protected\"\n",
        "\n",
        "    def _protected_method(self):\n",
        "        return \"This is a protected method\"\n",
        "\n",
        "obj = Example()\n",
        "print(obj._protected_attribute)  # Accessed directly, but discouraged\n",
        "print(obj._protected_method())   # Accessed directly, but discouraged\n"
      ],
      "metadata": {
        "colab": {
          "base_uri": "https://localhost:8080/"
        },
        "id": "btO97511LwQq",
        "outputId": "64c98b04-dc2e-423e-d0f0-f4bd59286070"
      },
      "execution_count": 8,
      "outputs": [
        {
          "output_type": "stream",
          "name": "stdout",
          "text": [
            "I am protected\n",
            "This is a protected method\n"
          ]
        }
      ]
    },
    {
      "cell_type": "code",
      "source": [
        "#3. Private\n",
        "#Denoted By: A double leading underscore (__).\n",
        "#Access: Private members are accessible only within the class where they are defined. Python implements name mangling to make them less accessible outside the class. However, they can still be accessed indirectly by using the mangled name.\n",
        "\n",
        "class Example:\n",
        "    def __init__(self):\n",
        "        self.__private_attribute = \"I am private\"\n",
        "\n",
        "    def __private_method(self):\n",
        "        return \"This is a private method\"\n",
        "\n",
        "    def access_private(self):\n",
        "        # Accessing private members within the class\n",
        "        return self.__private_attribute, self.__private_method()\n",
        "\n",
        "obj = Example()\n",
        "# Direct access will raise an AttributeError:\n",
        "# print(obj.__private_attribute)  # Uncommenting this will cause an error\n",
        "\n",
        "# Accessing through name mangling\n",
        "print(obj._Example__private_attribute)  # Output: I am private\n",
        "print(obj._Example__private_method())   # Output: This is a private method\n"
      ],
      "metadata": {
        "colab": {
          "base_uri": "https://localhost:8080/"
        },
        "id": "iS3f_imOMBXE",
        "outputId": "c394503e-89ed-4738-df6b-916ebbd15f72"
      },
      "execution_count": 9,
      "outputs": [
        {
          "output_type": "stream",
          "name": "stdout",
          "text": [
            "I am private\n",
            "This is a private method\n"
          ]
        }
      ]
    },
    {
      "cell_type": "markdown",
      "source": [
        "6)  Describe the five types of inheritance in Python. Provide a simple example of multiple inheritance"
      ],
      "metadata": {
        "id": "TEO8jSDAMO5T"
      }
    },
    {
      "cell_type": "code",
      "source": [
        "#Five Types of Inheritance in Python\n",
        "#Inheritance allows a class (child or subclass) to acquire properties and behaviors (methods) of another class (parent or superclass). Python supports the following types of inheritance:\n",
        "\n",
        "#1. Single Inheritance\n",
        "#A child class inherits from a single parent class.\n",
        "\n",
        "class Parent:\n",
        "    def display(self):\n",
        "        print(\"This is the parent class.\")\n",
        "\n",
        "class Child(Parent):\n",
        "    def show(self):\n",
        "        print(\"This is the child class.\")\n",
        "\n",
        "obj = Child()\n",
        "obj.display()  # Output: This is the parent class.\n",
        "obj.show()     # Output: This is the child class.\n"
      ],
      "metadata": {
        "colab": {
          "base_uri": "https://localhost:8080/"
        },
        "id": "x9A8NL-_MM0Z",
        "outputId": "a7b81437-3d5d-4cda-b45d-5d04fdea280a"
      },
      "execution_count": 10,
      "outputs": [
        {
          "output_type": "stream",
          "name": "stdout",
          "text": [
            "This is the parent class.\n",
            "This is the child class.\n"
          ]
        }
      ]
    },
    {
      "cell_type": "code",
      "source": [
        "#2. Multiple Inheritance\n",
        "#A child class inherits from multiple parent classes.\n",
        "\n",
        "class Parent1:\n",
        "    def method1(self):\n",
        "        print(\"This is Parent1.\")\n",
        "\n",
        "class Parent2:\n",
        "    def method2(self):\n",
        "        print(\"This is Parent2.\")\n",
        "\n",
        "class Child(Parent1, Parent2):\n",
        "    def method3(self):\n",
        "        print(\"This is the child class.\")\n",
        "\n",
        "obj = Child()\n",
        "obj.method1()  # Output: This is Parent1.\n",
        "obj.method2()  # Output: This is Parent2.\n",
        "obj.method3()  # Output: This is the child class.\n"
      ],
      "metadata": {
        "colab": {
          "base_uri": "https://localhost:8080/"
        },
        "id": "VH6P8s3oMgUX",
        "outputId": "873c0277-f505-48ab-a3e0-8c5ffbba19f4"
      },
      "execution_count": 11,
      "outputs": [
        {
          "output_type": "stream",
          "name": "stdout",
          "text": [
            "This is Parent1.\n",
            "This is Parent2.\n",
            "This is the child class.\n"
          ]
        }
      ]
    },
    {
      "cell_type": "code",
      "source": [
        "#3. Multilevel Inheritance\n",
        "#A class inherits from a child class, which in turn inherits from another class.\n",
        "\n",
        "class Grandparent:\n",
        "    def grandparent_method(self):\n",
        "        print(\"This is the grandparent class.\")\n",
        "\n",
        "class Parent(Grandparent):\n",
        "    def parent_method(self):\n",
        "        print(\"This is the parent class.\")\n",
        "\n",
        "class Child(Parent):\n",
        "    def child_method(self):\n",
        "        print(\"This is the child class.\")\n",
        "\n",
        "obj = Child()\n",
        "obj.grandparent_method()  # Output: This is the grandparent class.\n",
        "obj.parent_method()       # Output: This is the parent class.\n",
        "obj.child_method()        # Output: This is the child class.\n"
      ],
      "metadata": {
        "colab": {
          "base_uri": "https://localhost:8080/"
        },
        "id": "_t1krVpeMr2m",
        "outputId": "1425ece8-af1f-460a-e643-a02e65772824"
      },
      "execution_count": 12,
      "outputs": [
        {
          "output_type": "stream",
          "name": "stdout",
          "text": [
            "This is the grandparent class.\n",
            "This is the parent class.\n",
            "This is the child class.\n"
          ]
        }
      ]
    },
    {
      "cell_type": "code",
      "source": [
        "#4. Hierarchical Inheritance\n",
        "#Multiple child classes inherit from a single parent class.\n",
        "\n",
        "class Parent:\n",
        "    def parent_method(self):\n",
        "        print(\"This is the parent class.\")\n",
        "\n",
        "class Child1(Parent):\n",
        "    def child1_method(self):\n",
        "        print(\"This is the first child class.\")\n",
        "\n",
        "class Child2(Parent):\n",
        "    def child2_method(self):\n",
        "        print(\"This is the second child class.\")\n",
        "\n",
        "obj1 = Child1()\n",
        "obj2 = Child2()\n",
        "\n",
        "obj1.parent_method()  # Output: This is the parent class.\n",
        "obj1.child1_method()  # Output: This is the first child class.\n",
        "\n",
        "obj2.parent_method()  # Output: This is the parent class.\n",
        "obj2.child2_method()  # Output: This is the second child class.\n"
      ],
      "metadata": {
        "colab": {
          "base_uri": "https://localhost:8080/"
        },
        "id": "tsFmbJcnM3eP",
        "outputId": "eef4498d-9e9c-4e43-a432-3e0285a51c38"
      },
      "execution_count": 13,
      "outputs": [
        {
          "output_type": "stream",
          "name": "stdout",
          "text": [
            "This is the parent class.\n",
            "This is the first child class.\n",
            "This is the parent class.\n",
            "This is the second child class.\n"
          ]
        }
      ]
    },
    {
      "cell_type": "code",
      "source": [
        "#5. Hybrid Inheritance\n",
        "#A combination of two or more types of inheritance (e.g., hierarchical and multiple inheritance\n",
        "\n",
        "class Base:\n",
        "    def base_method(self):\n",
        "        print(\"This is the base class.\")\n",
        "\n",
        "class Parent1(Base):\n",
        "    def parent1_method(self):\n",
        "        print(\"This is Parent1.\")\n",
        "\n",
        "class Parent2(Base):\n",
        "    def parent2_method(self):\n",
        "        print(\"This is Parent2.\")\n",
        "\n",
        "class Child(Parent1, Parent2):\n",
        "    def child_method(self):\n",
        "        print(\"This is the child class.\")\n",
        "\n",
        "obj = Child()\n",
        "obj.base_method()      # Output: This is the base class.\n",
        "obj.parent1_method()   # Output: This is Parent1.\n",
        "obj.parent2_method()   # Output: This is Parent2.\n",
        "obj.child_method()     # Output: This is the child class.\n"
      ],
      "metadata": {
        "colab": {
          "base_uri": "https://localhost:8080/"
        },
        "id": "hd2RzFPUNAUk",
        "outputId": "83cd7e61-75a4-4f97-a4ab-ac07858b80c2"
      },
      "execution_count": 14,
      "outputs": [
        {
          "output_type": "stream",
          "name": "stdout",
          "text": [
            "This is the base class.\n",
            "This is Parent1.\n",
            "This is Parent2.\n",
            "This is the child class.\n"
          ]
        }
      ]
    },
    {
      "cell_type": "markdown",
      "source": [
        "7) What is the Method Resolution Order (MRO) in Python? How can you retrieve it programmatically"
      ],
      "metadata": {
        "id": "54FnT8t1NPwI"
      }
    },
    {
      "cell_type": "code",
      "source": [
        "#The Method Resolution Order (MRO) is the order in which Python looks for a method or attribute in a hierarchy of classes during inheritance. It determines the sequence of classes to be checked when a method or attribute is called on an object.\n",
        "\n",
        "MRO ensures that:\n",
        "\n",
        "Python follows a depth-first, left-to-right search.\n",
        "It avoids visiting the same class more than once (to prevent redundant lookups).\n",
        "It adheres to the C3 Linearization Algorithm, which ensures consistent and predictable class hierarchies in multiple inheritance scenarios."
      ],
      "metadata": {
        "id": "9n7XFCpPNKDN"
      },
      "execution_count": null,
      "outputs": []
    },
    {
      "cell_type": "code",
      "source": [
        "#You can retrieve the MRO of a class using one of the following methods:\n",
        "\n",
        "#1 Using the mro() Method:\n",
        "\n",
        "class A:\n",
        "    pass\n",
        "\n",
        "class B(A):\n",
        "    pass\n",
        "\n",
        "class C(B):\n",
        "    pass\n",
        "\n",
        "print(C.mro())\n",
        "\n"
      ],
      "metadata": {
        "colab": {
          "base_uri": "https://localhost:8080/"
        },
        "id": "KSO0LsnqNn1P",
        "outputId": "a57ec77a-40b3-4e70-d1e2-59e0323753d8"
      },
      "execution_count": 15,
      "outputs": [
        {
          "output_type": "stream",
          "name": "stdout",
          "text": [
            "[<class '__main__.C'>, <class '__main__.B'>, <class '__main__.A'>, <class 'object'>]\n"
          ]
        }
      ]
    },
    {
      "cell_type": "code",
      "source": [
        "#2 Using the __mro__ Attribute:\n",
        "\n",
        "print(C.__mro__)\n"
      ],
      "metadata": {
        "colab": {
          "base_uri": "https://localhost:8080/"
        },
        "id": "8BoSmgigNwCv",
        "outputId": "d9920d91-1246-4745-cb5a-8d58bb19e09a"
      },
      "execution_count": 16,
      "outputs": [
        {
          "output_type": "stream",
          "name": "stdout",
          "text": [
            "(<class '__main__.C'>, <class '__main__.B'>, <class '__main__.A'>, <class 'object'>)\n"
          ]
        }
      ]
    },
    {
      "cell_type": "code",
      "source": [
        "#3Using the help() Function:\n",
        "\n",
        "help(C)\n"
      ],
      "metadata": {
        "colab": {
          "base_uri": "https://localhost:8080/"
        },
        "id": "nCpMfrxBN3YZ",
        "outputId": "349c2599-92d3-4f00-ea56-c5d8f5dca126"
      },
      "execution_count": 17,
      "outputs": [
        {
          "output_type": "stream",
          "name": "stdout",
          "text": [
            "Help on class C in module __main__:\n",
            "\n",
            "class C(B)\n",
            " |  Method resolution order:\n",
            " |      C\n",
            " |      B\n",
            " |      A\n",
            " |      builtins.object\n",
            " |  \n",
            " |  Data descriptors inherited from A:\n",
            " |  \n",
            " |  __dict__\n",
            " |      dictionary for instance variables (if defined)\n",
            " |  \n",
            " |  __weakref__\n",
            " |      list of weak references to the object (if defined)\n",
            "\n"
          ]
        }
      ]
    },
    {
      "cell_type": "code",
      "source": [
        "#Example with Multiple Inheritance\n",
        "\n",
        "class A:\n",
        "    def show(self):\n",
        "        print(\"A\")\n",
        "\n",
        "class B(A):\n",
        "    def show(self):\n",
        "        print(\"B\")\n",
        "\n",
        "class C(A):\n",
        "    def show(self):\n",
        "        print(\"C\")\n",
        "\n",
        "class D(B, C):\n",
        "    pass\n",
        "\n",
        "d = D()\n",
        "d.show()\n",
        "print(D.mro())\n"
      ],
      "metadata": {
        "colab": {
          "base_uri": "https://localhost:8080/"
        },
        "id": "ATOinvWrN9G2",
        "outputId": "b64ccdcf-45bb-458a-ca9c-fd36b1b47a01"
      },
      "execution_count": 18,
      "outputs": [
        {
          "output_type": "stream",
          "name": "stdout",
          "text": [
            "B\n",
            "[<class '__main__.D'>, <class '__main__.B'>, <class '__main__.C'>, <class '__main__.A'>, <class 'object'>]\n"
          ]
        }
      ]
    },
    {
      "cell_type": "code",
      "source": [
        "Here, the MRO resolves D.show() by searching in:\n",
        "\n",
        "Class D itself.\n",
        "Class B (left-to-right order in the inheritance list of D).\n",
        "Class C.\n",
        "Class A."
      ],
      "metadata": {
        "id": "sBQLnJJXOE_A"
      },
      "execution_count": null,
      "outputs": []
    },
    {
      "cell_type": "code",
      "source": [
        "Key Points\n",
        "MRO ensures a consistent lookup in inheritance hierarchies, avoiding ambiguities.\n",
        "Use mro() or __mro__ to inspect the resolution order.\n",
        "The C3 Linearization Algorithm is critical in resolving conflicts in complex hierarchies."
      ],
      "metadata": {
        "id": "e8otJso_OJG2"
      },
      "execution_count": null,
      "outputs": []
    },
    {
      "cell_type": "markdown",
      "source": [
        "8) Create an abstract base class `Shape` with an abstract method `area()`. Then create two subclasses\n",
        "`Circle` and `Rectangle` that implement the `area()` method."
      ],
      "metadata": {
        "id": "45zt0x2dOLx9"
      }
    },
    {
      "cell_type": "code",
      "source": [
        "from abc import ABC, abstractmethod\n",
        "import math\n",
        "\n",
        "# Abstract Base Class\n",
        "class Shape(ABC):\n",
        "    @abstractmethod\n",
        "    def area(self):\n",
        "        \"\"\"\n",
        "        Abstract method to calculate the area of a shape.\n",
        "        Must be implemented by subclasses.\n",
        "        \"\"\"\n",
        "        pass\n",
        "\n",
        "# Subclass: Circle\n",
        "class Circle(Shape):\n",
        "    def __init__(self, radius):\n",
        "        self.radius = radius\n",
        "\n",
        "    def area(self):\n",
        "        \"\"\"\n",
        "        Calculate the area of the circle.\n",
        "        Formula: π * r^2\n",
        "        \"\"\"\n",
        "        return math.pi * self.radius ** 2\n",
        "\n",
        "# Subclass: Rectangle\n",
        "class Rectangle(Shape):\n",
        "    def __init__(self, length, width):\n",
        "        self.length = length\n",
        "        self.width = width\n",
        "\n",
        "    def area(self):\n",
        "        \"\"\"\n",
        "        Calculate the area of the rectangle.\n",
        "        Formula: length * width\n",
        "        \"\"\"\n",
        "        return self.length * self.width\n",
        "\n",
        "# Example usage:\n",
        "circle = Circle(5)\n",
        "rectangle = Rectangle(4, 6)\n",
        "\n",
        "print(f\"Area of the circle: {circle.area():.2f}\")  # Output: Area of the circle: 78.54\n",
        "print(f\"Area of the rectangle: {rectangle.area()}\")  # Output: Area of the rectangle: 24\n"
      ],
      "metadata": {
        "colab": {
          "base_uri": "https://localhost:8080/"
        },
        "id": "mjbZ1hGqOPEF",
        "outputId": "f9b8892c-6838-48b1-98a3-9a903ba0dede"
      },
      "execution_count": 19,
      "outputs": [
        {
          "output_type": "stream",
          "name": "stdout",
          "text": [
            "Area of the circle: 78.54\n",
            "Area of the rectangle: 24\n"
          ]
        }
      ]
    },
    {
      "cell_type": "code",
      "source": [
        "Explanation\n",
        "Abstract Base Class (Shape):\n",
        "\n",
        "Declared using ABC from the abc module.\n",
        "The @abstractmethod decorator ensures that any subclass must implement the area() method.\n",
        "Subclasses (Circle and Rectangle):\n",
        "\n",
        "Both subclasses inherit from Shape.\n",
        "They provide their specific implementation of the area() method.\n",
        "Usage:\n",
        "\n",
        "You cannot instantiate the Shape class directly because it contains an abstract method.\n",
        "You must implement the abstract method in all subclasses for them to be instantiated."
      ],
      "metadata": {
        "id": "27laUEPbOZjy"
      },
      "execution_count": null,
      "outputs": []
    },
    {
      "cell_type": "markdown",
      "source": [
        "9) Demonstrate polymorphism by creating a function that can work with different shape objects to calculate\n",
        "and print their areas."
      ],
      "metadata": {
        "id": "xDDhc6N7OeMO"
      }
    },
    {
      "cell_type": "code",
      "source": [
        "from abc import ABC, abstractmethod\n",
        "import math\n",
        "\n",
        "# Abstract Base Class\n",
        "class Shape(ABC):\n",
        "    @abstractmethod\n",
        "    def area(self):\n",
        "        pass\n",
        "\n",
        "# Subclass: Circle\n",
        "class Circle(Shape):\n",
        "    def __init__(self, radius):\n",
        "        self.radius = radius\n",
        "\n",
        "    def area(self):\n",
        "        return math.pi * self.radius ** 2\n",
        "\n",
        "# Subclass: Rectangle\n",
        "class Rectangle(Shape):\n",
        "    def __init__(self, length, width):\n",
        "        self.length = length\n",
        "        self.width = width\n",
        "\n",
        "    def area(self):\n",
        "        return self.length * self.width\n",
        "\n",
        "# Subclass: Triangle\n",
        "class Triangle(Shape):\n",
        "    def __init__(self, base, height):\n",
        "        self.base = base\n",
        "        self.height = height\n",
        "\n",
        "    def area(self):\n",
        "        return 0.5 * self.base * self.height\n",
        "\n",
        "# Polymorphic function\n",
        "def print_area(shape):\n",
        "    \"\"\"\n",
        "    This function demonstrates polymorphism.\n",
        "    It accepts any object that inherits from Shape and calculates its area.\n",
        "    \"\"\"\n",
        "    print(f\"The area is: {shape.area():.2f}\")\n",
        "\n",
        "# Example usage\n",
        "circle = Circle(5)          # Circle with radius 5\n",
        "rectangle = Rectangle(4, 6) # Rectangle with length 4 and width 6\n",
        "triangle = Triangle(3, 5)   # Triangle with base 3 and height 5\n",
        "\n",
        "shapes = [circle, rectangle, triangle]\n",
        "\n",
        "for shape in shapes:\n",
        "    print_area(shape)\n"
      ],
      "metadata": {
        "colab": {
          "base_uri": "https://localhost:8080/"
        },
        "id": "FJ2IanxvOjRZ",
        "outputId": "1ed9102c-a7e6-4b45-ed64-d970f7dc570f"
      },
      "execution_count": 20,
      "outputs": [
        {
          "output_type": "stream",
          "name": "stdout",
          "text": [
            "The area is: 78.54\n",
            "The area is: 24.00\n",
            "The area is: 7.50\n"
          ]
        }
      ]
    },
    {
      "cell_type": "code",
      "source": [
        "Explanation\n",
        "Polymorphism:\n",
        "\n",
        "The print_area() function works with objects of different types (Circle, Rectangle, and Triangle) that share a common interface (Shape).\n",
        "Even though the method area() is implemented differently for each subclass, the function can call it without knowing the specific class type.\n",
        "Dynamic Method Resolution:\n",
        "\n",
        "When shape.area() is called, Python determines at runtime which area() implementation to execute, based on the object's actual type."
      ],
      "metadata": {
        "id": "JXmozp-pOrbK"
      },
      "execution_count": null,
      "outputs": []
    },
    {
      "cell_type": "markdown",
      "source": [
        "10)  Implement encapsulation in a `BankAccount` class with private attributes for `balance` and\n",
        "`account_number`. Include methods for deposit, withdrawal, and balance inquiry."
      ],
      "metadata": {
        "id": "TcyFXXvVOvpO"
      }
    },
    {
      "cell_type": "code",
      "source": [
        "class BankAccount:\n",
        "    def __init__(self, account_number, initial_balance=0):\n",
        "        \"\"\"\n",
        "        Initialize the BankAccount with a private account number and balance.\n",
        "        \"\"\"\n",
        "        self.__account_number = account_number  # Private attribute\n",
        "        self.__balance = initial_balance        # Private attribute\n",
        "\n",
        "    def deposit(self, amount):\n",
        "        \"\"\"\n",
        "        Deposit money into the account. Positive amounts only.\n",
        "        \"\"\"\n",
        "        if amount > 0:\n",
        "            self.__balance += amount\n",
        "            print(f\"Deposited ${amount:.2f}. New balance: ${self.__balance:.2f}\")\n",
        "        else:\n",
        "            print(\"Deposit amount must be positive.\")\n",
        "\n",
        "    def withdraw(self, amount):\n",
        "        \"\"\"\n",
        "        Withdraw money from the account. Ensures sufficient balance.\n",
        "        \"\"\"\n",
        "        if amount > self.__balance:\n",
        "            print(f\"Insufficient funds. Current balance: ${self.__balance:.2f}\")\n",
        "        elif amount > 0:\n",
        "            self.__balance -= amount\n",
        "            print(f\"Withdrew ${amount:.2f}. New balance: ${self.__balance:.2f}\")\n",
        "        else:\n",
        "            print(\"Withdrawal amount must be positive.\")\n",
        "\n",
        "    def get_balance(self):\n",
        "        \"\"\"\n",
        "        Return the current balance.\n",
        "        \"\"\"\n",
        "        return self.__balance\n",
        "\n",
        "    def get_account_number(self):\n",
        "        \"\"\"\n",
        "        Return the account number.\n",
        "        \"\"\"\n",
        "        return self.__account_number\n",
        "\n",
        "# Example usage\n",
        "account = BankAccount(\"123456789\", 1000)\n",
        "\n",
        "# Accessing methods\n",
        "account.deposit(500)  # Output: Deposited $500.00. New balance: $1500.00\n",
        "account.withdraw(200) # Output: Withdrew $200.00. New balance: $1300.00\n",
        "print(f\"Current balance: ${account.get_balance():.2f}\")  # Output: Current balance: $1300.00\n",
        "\n",
        "# Attempting invalid transactions\n",
        "account.withdraw(2000)  # Output: Insufficient funds. Current balance: $1300.00\n",
        "account.deposit(-50)    # Output: Deposit amount must be positive.\n",
        "\n",
        "# Accessing private attributes directly will raise an AttributeError\n",
        "# print(account.__balance)  # Uncommenting this will result in an error\n"
      ],
      "metadata": {
        "colab": {
          "base_uri": "https://localhost:8080/"
        },
        "id": "TRw127B6O1mz",
        "outputId": "7c6d880c-722e-4e16-f2e5-50b87f576869"
      },
      "execution_count": 21,
      "outputs": [
        {
          "output_type": "stream",
          "name": "stdout",
          "text": [
            "Deposited $500.00. New balance: $1500.00\n",
            "Withdrew $200.00. New balance: $1300.00\n",
            "Current balance: $1300.00\n",
            "Insufficient funds. Current balance: $1300.00\n",
            "Deposit amount must be positive.\n"
          ]
        }
      ]
    },
    {
      "cell_type": "code",
      "source": [
        "Key Features\n",
        "Encapsulation:\n",
        "\n",
        "The attributes __balance and __account_number are private (denoted by the double leading underscores).\n",
        "They can only be accessed or modified through the class's public methods.\n",
        "Methods:\n",
        "\n",
        "deposit(amount) ensures positive amounts are deposited.\n",
        "withdraw(amount) validates sufficient funds and positive amounts.\n",
        "get_balance() provides controlled access to the private balance.\n",
        "get_account_number() retrieves the private account number.\n",
        "Access Control:\n",
        "\n",
        "Private attributes protect sensitive data from being accessed or modified directly outside the class.\n",
        "This implementation adheres to the principle of encapsulation, ensuring data integrity and controlled interaction with the BankAccount class."
      ],
      "metadata": {
        "id": "0-GLI_T2PAK-"
      },
      "execution_count": null,
      "outputs": []
    },
    {
      "cell_type": "markdown",
      "source": [
        "11) Write a class that overrides the `__str__` and `__add__` magic methods. What will these methods allow\n",
        "you to do?\n",
        "\n",
        "\n"
      ],
      "metadata": {
        "id": "CS8aKcBZPGCu"
      }
    },
    {
      "cell_type": "code",
      "source": [
        "Overriding the __str__ and __add__ magic methods allows us to customize the behavior of the str() function and the + operator for instances of a class. Here’s an explanation and an example:\n",
        "\n",
        "1. __str__ Magic Method\n",
        "Purpose: Customize the string representation of an object when str() or print() is called.\n",
        "Default Behavior: Without overriding, it shows a default representation like <__main__.ClassName object at memory_location>."
      ],
      "metadata": {
        "id": "2__W7azFPJ-s"
      },
      "execution_count": null,
      "outputs": []
    },
    {
      "cell_type": "code",
      "source": [
        "class Point:\n",
        "    def __init__(self, x, y):\n",
        "        self.x = x\n",
        "        self.y = y\n",
        "\n",
        "    def __str__(self):\n",
        "        \"\"\"\n",
        "        Custom string representation of the Point object.\n",
        "        \"\"\"\n",
        "        return f\"Point({self.x}, {self.y})\"\n",
        "\n",
        "    def __add__(self, other):\n",
        "        \"\"\"\n",
        "        Custom behavior for adding two Point objects using the + operator.\n",
        "        Adds the x and y coordinates of the two points.\n",
        "        \"\"\"\n",
        "        if isinstance(other, Point):\n",
        "            return Point(self.x + other.x, self.y + other.y)\n",
        "        raise TypeError(\"Can only add Point to Point\")\n",
        "\n",
        "# Example usage\n",
        "p1 = Point(2, 3)\n",
        "p2 = Point(4, 5)\n",
        "\n",
        "print(p1)  # Output: Point(2, 3)\n",
        "print(p2)  # Output: Point(4, 5)\n",
        "\n",
        "p3 = p1 + p2\n",
        "print(p3)  # Output: Point(6, 8)\n",
        "\n",
        "# Attempting invalid addition\n",
        "# p4 = p1 + 10  # Uncommenting this raises: TypeError: Can only add Point to Point\n"
      ],
      "metadata": {
        "colab": {
          "base_uri": "https://localhost:8080/"
        },
        "id": "_57qHxSyPSsO",
        "outputId": "a4dfe572-0a22-4ef3-d344-4cad70c8b467"
      },
      "execution_count": 22,
      "outputs": [
        {
          "output_type": "stream",
          "name": "stdout",
          "text": [
            "Point(2, 3)\n",
            "Point(4, 5)\n",
            "Point(6, 8)\n"
          ]
        }
      ]
    },
    {
      "cell_type": "code",
      "source": [
        "What These Methods Allow You to Do\n",
        "__str__:\n",
        "\n",
        "Makes objects user-friendly when printed or converted to strings.\n",
        "Useful for debugging or displaying meaningful information about the object.\n",
        "__add__:\n",
        "\n",
        "Enables the use of the + operator with custom behavior for the class.\n",
        "Adds a natural way to combine or operate on objects of the same class (or compatible types).\n",
        "This approach enhances the readability, usability, and flexibility of your custom class."
      ],
      "metadata": {
        "id": "daws8ALSPWNP"
      },
      "execution_count": null,
      "outputs": []
    },
    {
      "cell_type": "markdown",
      "source": [
        "12)Create a decorator that measures and prints the execution time of a function"
      ],
      "metadata": {
        "id": "XrmvXpb3PZGr"
      }
    },
    {
      "cell_type": "code",
      "source": [
        "import time\n",
        "\n",
        "def execution_timer(func):\n",
        "    \"\"\"\n",
        "    A decorator to measure and print the execution time of a function.\n",
        "    \"\"\"\n",
        "    def wrapper(*args, **kwargs):\n",
        "        start_time = time.time()  # Record the start time\n",
        "        result = func(*args, **kwargs)  # Execute the function\n",
        "        end_time = time.time()  # Record the end time\n",
        "        execution_time = end_time - start_time\n",
        "        print(f\"Execution time for {func.__name__}: {execution_time:.4f} seconds\")\n",
        "        return result\n",
        "\n",
        "    return wrapper\n",
        "\n",
        "# Example usage\n",
        "@execution_timer\n",
        "def sample_function(n):\n",
        "    \"\"\"\n",
        "    A sample function that simulates work by sleeping for n seconds.\n",
        "    \"\"\"\n",
        "    time.sleep(n)\n",
        "    return f\"Slept for {n} seconds\"\n",
        "\n",
        "@execution_timer\n",
        "def compute_sum(n):\n",
        "    \"\"\"\n",
        "    A function that computes the sum of the first n numbers.\n",
        "    \"\"\"\n",
        "    return sum(range(1, n + 1))\n",
        "\n",
        "# Test the decorator\n",
        "print(sample_function(2))  # Simulates work by sleeping for 2 seconds\n",
        "print(compute_sum(1000000))  # Computes the sum of the first 1,000,000 numbers\n"
      ],
      "metadata": {
        "colab": {
          "base_uri": "https://localhost:8080/"
        },
        "id": "pOhVbkvFPcWX",
        "outputId": "c20d5ba9-e90e-46bd-9d5b-fcad5b5703d4"
      },
      "execution_count": 23,
      "outputs": [
        {
          "output_type": "stream",
          "name": "stdout",
          "text": [
            "Execution time for sample_function: 2.0015 seconds\n",
            "Slept for 2 seconds\n",
            "Execution time for compute_sum: 0.0212 seconds\n",
            "500000500000\n"
          ]
        }
      ]
    },
    {
      "cell_type": "markdown",
      "source": [
        "13) Explain the concept of the Diamond Problem in multiple inheritance. How does Python resolve it?"
      ],
      "metadata": {
        "id": "2-Pqa69RPp0c"
      }
    },
    {
      "cell_type": "code",
      "source": [
        "The Diamond Problem in Multiple Inheritance\n",
        "The Diamond Problem occurs in object-oriented programming (OOP) when a class inherits from two classes that have a common ancestor. This creates a diamond-shaped inheritance structure. The problem arises when the child class inherits the same method or attribute from two different parent classes, which in turn both inherit from a common grandparent class. This can lead to ambiguity about which method to use if both parent classes define the same method or attribute.\n",
        "\n",
        "Visual Representation:\n",
        "css\n",
        "Copy code\n",
        "        A\n",
        "       / \\\n",
        "      B   C\n",
        "       \\ /\n",
        "        D\n",
        "Class A is the grandparent class.\n",
        "Classes B and C are the parent classes, both inheriting from A.\n",
        "Class D is the child class, inheriting from both B and C.\n",
        "Potential Issue:\n",
        "If both B and C have a method with the same name, and class D calls that method, Python needs to decide whether to call B's or C's method. If both methods are different or have side effects, this could lead to inconsistency or errors.\n",
        "How Python Resolves the Diamond Problem\n",
        "Python resolves the Diamond Problem using a method called C3 Linearization (also known as C3 Superclass Linearization). This method ensures a consistent and predictable order for method resolution, avoiding ambiguity in cases of multiple inheritance.\n",
        "\n",
        "Key Features of C3 Linearization:\n",
        "Depth-First, Left-to-Right: Python searches for the method or attribute by going down the inheritance chain, prioritizing the leftmost class (i.e., the class declared first).\n",
        "No Redundancy: Each class is included only once in the resolution order, ensuring no class is checked twice.\n",
        "Respecting Parent Class Order: If a class inherits from multiple classes, Python respects the order in which the parent classes are listed."
      ],
      "metadata": {
        "id": "drLQicUPPkwo"
      },
      "execution_count": null,
      "outputs": []
    },
    {
      "cell_type": "code",
      "source": [
        "class A:\n",
        "    def greet(self):\n",
        "        print(\"Hello from A\")\n",
        "\n",
        "class B(A):\n",
        "    def greet(self):\n",
        "        print(\"Hello from B\")\n",
        "\n",
        "class C(A):\n",
        "    def greet(self):\n",
        "        print(\"Hello from C\")\n",
        "\n",
        "class D(B, C):\n",
        "    pass\n",
        "\n",
        "# Create an instance of D\n",
        "d = D()\n",
        "d.greet()  # Output: Hello from B\n"
      ],
      "metadata": {
        "colab": {
          "base_uri": "https://localhost:8080/"
        },
        "id": "75KkPpTpP7tU",
        "outputId": "f5978ce1-2037-4821-a0d2-e3746a6b3ac5"
      },
      "execution_count": 24,
      "outputs": [
        {
          "output_type": "stream",
          "name": "stdout",
          "text": [
            "Hello from B\n"
          ]
        }
      ]
    },
    {
      "cell_type": "code",
      "source": [
        "Explanation:\n",
        "In the class hierarchy, class D inherits from both B and C. However, Python resolves the greet() method by following the C3 linearization:\n",
        "It first checks B (the leftmost class in D's inheritance).\n",
        "Since B defines a greet() method, Python uses B's method.\n",
        "If B didn't define greet(), Python would check C and then A, based on the linearized order."
      ],
      "metadata": {
        "id": "xOhKRszMP9oJ"
      },
      "execution_count": null,
      "outputs": []
    },
    {
      "cell_type": "code",
      "source": [
        "C3 Linearization in Action:\n",
        "The MRO for class D is: [D, B, C, A, object].\n",
        "D comes first (the class itself).\n",
        "B is checked next because it's the first class listed in D's inheritance.\n",
        "C comes next because it's the second parent.\n",
        "Finally, A is checked, followed by the base object class.\n",
        "Conclusion\n",
        "Python resolves the Diamond Problem by using C3 Linearization, which provides a clear and predictable method resolution order. This ensures that methods and attributes are inherited in a consistent order without ambiguity, even in the case of complex multiple inheritance hierarchies."
      ],
      "metadata": {
        "id": "VzVidrmEQB0T"
      },
      "execution_count": null,
      "outputs": []
    },
    {
      "cell_type": "markdown",
      "source": [
        "14) Write a class method that keeps track of the number of instances created from a class"
      ],
      "metadata": {
        "id": "ppQxanMNQFtm"
      }
    },
    {
      "cell_type": "code",
      "source": [
        "class MyClass:\n",
        "    # Class variable to keep track of instance count\n",
        "    instance_count = 0\n",
        "\n",
        "    def __init__(self):\n",
        "        # Increment the instance count each time a new instance is created\n",
        "        MyClass.instance_count += 1\n",
        "\n",
        "    @classmethod\n",
        "    def get_instance_count(cls):\n",
        "        \"\"\"\n",
        "        Class method to return the current count of instances created.\n",
        "        \"\"\"\n",
        "        return cls.instance_count\n",
        "\n",
        "# Example usage\n",
        "obj1 = MyClass()\n",
        "obj2 = MyClass()\n",
        "obj3 = MyClass()\n",
        "\n",
        "print(f\"Instances created: {MyClass.get_instance_count()}\")  # Output: Instances created: 3\n"
      ],
      "metadata": {
        "colab": {
          "base_uri": "https://localhost:8080/"
        },
        "id": "M_BWLMxjQE4D",
        "outputId": "37b3de05-9a84-43d2-e584-ba117bb706ee"
      },
      "execution_count": 25,
      "outputs": [
        {
          "output_type": "stream",
          "name": "stdout",
          "text": [
            "Instances created: 3\n"
          ]
        }
      ]
    },
    {
      "cell_type": "code",
      "source": [
        "Explanation:\n",
        "Class Variable (instance_count):\n",
        "\n",
        "instance_count is a class variable, meaning it is shared by all instances of the class.\n",
        "This variable is incremented every time the __init__ method is called to create a new instance of MyClass.\n",
        "Class Method (get_instance_count):\n",
        "\n",
        "The @classmethod decorator is used to define a method that can be called on the class itself, rather than on instances.\n",
        "cls refers to the class, and it is used to access the class variable instance_count.\n",
        "The method returns the current value of instance_count, which reflects the number of instances created."
      ],
      "metadata": {
        "id": "KVTDEIKcQQJ6"
      },
      "execution_count": null,
      "outputs": []
    },
    {
      "cell_type": "markdown",
      "source": [
        "15) Implement a static method in a class that checks if a given year is a leap year"
      ],
      "metadata": {
        "id": "wi0XzXVzQUCG"
      }
    },
    {
      "cell_type": "code",
      "source": [
        "To implement a static method that checks if a given year is a leap year, you can use the following approach:\n",
        "\n",
        "Leap Year Rule:\n",
        "A year is a leap year if:\n",
        "\n",
        "It is divisible by 4.\n",
        "However, if it is divisible by 100, it must also be divisible by 400 to be a leap year."
      ],
      "metadata": {
        "id": "2BL_DgWwQYEv"
      },
      "execution_count": null,
      "outputs": []
    },
    {
      "cell_type": "code",
      "source": [
        "class Calendar:\n",
        "    @staticmethod\n",
        "    def is_leap_year(year):\n",
        "        \"\"\"\n",
        "        Static method to check if a given year is a leap year.\n",
        "        \"\"\"\n",
        "        if (year % 4 == 0 and year % 100 != 0) or (year % 400 == 0):\n",
        "            return True\n",
        "        return False\n",
        "\n",
        "# Example usage\n",
        "year = 2024\n",
        "if Calendar.is_leap_year(year):\n",
        "    print(f\"{year} is a leap year.\")\n",
        "else:\n",
        "    print(f\"{year} is not a leap year.\")\n",
        "\n",
        "year = 1900\n",
        "if Calendar.is_leap_year(year):\n",
        "    print(f\"{year} is a leap year.\")\n",
        "else:\n",
        "    print(f\"{year} is not a leap year.\")\n"
      ],
      "metadata": {
        "colab": {
          "base_uri": "https://localhost:8080/"
        },
        "id": "IFnb9aDaQc8x",
        "outputId": "9e13ceb8-a1f6-4a6f-86a3-9cef04d396d2"
      },
      "execution_count": 26,
      "outputs": [
        {
          "output_type": "stream",
          "name": "stdout",
          "text": [
            "2024 is a leap year.\n",
            "1900 is not a leap year.\n"
          ]
        }
      ]
    },
    {
      "cell_type": "code",
      "source": [
        "Explanation:\n",
        "Static Method (@staticmethod):\n",
        "The is_leap_year method is decorated with @staticmethod to indicate that it doesn't need access to instance or class-specific data. It operates only on the argument passed to it (the year).\n",
        "Leap Year Logic:\n",
        "The method checks whether the year is divisible by 4 and, if divisible by 100, ensures it is also divisible by 400.\n",
        "Example Usage:\n",
        "We call the static method is_leap_year(year) directly on the class Calendar, without needing to create an instance."
      ],
      "metadata": {
        "id": "h80HCj8NQeLP"
      },
      "execution_count": null,
      "outputs": []
    }
  ]
}